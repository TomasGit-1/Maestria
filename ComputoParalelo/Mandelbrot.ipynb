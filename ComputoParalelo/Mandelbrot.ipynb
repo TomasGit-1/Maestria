{
 "cells": [
  {
   "cell_type": "code",
   "execution_count": 3,
   "metadata": {},
   "outputs": [],
   "source": [
    "import numpy as np\n",
    "import matplotlib.pyplot as plt\n",
    "\n",
    "def mandelbrot(c, max_iter):\n",
    "    z = 0\n",
    "    n = 0\n",
    "    while abs(z) <= 2 and n < max_iter:\n",
    "        z = z*z + c\n",
    "        n += 1\n",
    "    return n\n",
    "\n",
    "def mandelbrot_set(xmin,xmax,ymin,ymax,width,height,max_iter):\n",
    "    r1 = np.linspace(xmin, xmax, width)\n",
    "    r2 = np.linspace(ymin, ymax, height)\n",
    "    return (r1,r2,np.array([[mandelbrot(complex(r, i),max_iter) for r in r1] for i in r2]))\n",
    "\n",
    "def display(xmin,xmax,ymin,ymax,width,height,max_iter):\n",
    "    d = mandelbrot_set(xmin,xmax,ymin,ymax,width,height,max_iter)\n",
    "    plt.imshow(d[2], extent=(xmin, xmax, ymin, ymax))\n",
    "    plt.show()\n",
    "\n",
    "# Define los parámetros de la visualización\n",
    "xmin, xmax, ymin, ymax = -2.0, 1.0, -1.5, 1.5\n",
    "width, height = 1000, 1000\n",
    "max_iter = 100000\n",
    "\n",
    "# Muestra el conjunto de Mandelbrot\n",
    "display(xmin, xmax, ymin, ymax, width, height, max_iter)\n"
   ]
  }
 ],
 "metadata": {
  "kernelspec": {
   "display_name": "envIA",
   "language": "python",
   "name": "python3"
  },
  "language_info": {
   "codemirror_mode": {
    "name": "ipython",
    "version": 3
   },
   "file_extension": ".py",
   "mimetype": "text/x-python",
   "name": "python",
   "nbconvert_exporter": "python",
   "pygments_lexer": "ipython3",
   "version": "3.10.13"
  }
 },
 "nbformat": 4,
 "nbformat_minor": 2
}
