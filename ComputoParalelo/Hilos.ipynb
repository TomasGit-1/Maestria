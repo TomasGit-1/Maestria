{
 "cells": [
  {
   "cell_type": "markdown",
   "metadata": {},
   "source": [
    "<h2>Hilos</h2>\n",
    "\n",
    "> import threading\n",
    "\n",
    "Tenemos dos opciones:\n",
    "    - Generar una clase y heredar de la clase Thread\n",
    "    - Generar un metodo y usarlo desde la clase Thread"
   ]
  },
  {
   "cell_type": "code",
   "execution_count": 9,
   "metadata": {},
   "outputs": [
    {
     "name": "stdout",
     "output_type": "stream",
     "text": [
      "Hola Mundo! 1\n",
      "Hola Mundo! 4\n",
      "Hola Mundo! 6\n",
      "Hola Mundo! 3\n",
      "Hola Mundo! 7\n",
      "Hola Mundo! 10\n",
      "Hola Mundo! 0\n",
      "Hola Mundo! 5\n",
      "Hola Mundo! 11\n",
      "Hola Mundo! 8Hola Mundo! 9\n",
      "\n",
      "Hola Mundo! 2\n",
      "Fin del programa\n"
     ]
    }
   ],
   "source": [
    "import threading\n",
    "import time\n",
    "from random import randint\n",
    "import multiprocessing\n",
    "\n",
    "class ParalellThread(threading.Thread):\n",
    "    pass\n",
    "\n",
    "def saludar(num):\n",
    "    time.sleep(randint(1, 5))\n",
    "    print(f\"Hola Mundo! {num}\")\n",
    "\n",
    "if __name__ == \"__main__\":\n",
    "    hilos = []\n",
    "    for i in range(multiprocessing.cpu_count()):\n",
    "        hilos.append(ParalellThread(target=saludar, args=(i,)))\n",
    "        hilos[-1].start()\n",
    "\n",
    "    for hilo in hilos:\n",
    "        hilo.join()\n",
    "\n",
    "    print(\"Fin del programa\")\n",
    "    \n"
   ]
  }
 ],
 "metadata": {
  "kernelspec": {
   "display_name": "envIA",
   "language": "python",
   "name": "python3"
  },
  "language_info": {
   "codemirror_mode": {
    "name": "ipython",
    "version": 3
   },
   "file_extension": ".py",
   "mimetype": "text/x-python",
   "name": "python",
   "nbconvert_exporter": "python",
   "pygments_lexer": "ipython3",
   "version": "3.10.13"
  }
 },
 "nbformat": 4,
 "nbformat_minor": 2
}
