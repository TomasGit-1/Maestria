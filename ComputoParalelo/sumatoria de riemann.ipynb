{
 "cells": [
  {
   "cell_type": "markdown",
   "id": "b7c6c571",
   "metadata": {},
   "source": [
    "# sumatoria de riemann"
   ]
  },
  {
   "cell_type": "code",
   "execution_count": 5,
   "id": "dcb9f9a9",
   "metadata": {
    "scrolled": true
   },
   "outputs": [
    {
     "name": "stdout",
     "output_type": "stream",
     "text": [
      "4e-06\n",
      "25.333265333375948\n"
     ]
    }
   ],
   "source": [
    "# x^3+x^2-1\n",
    "li, ls=-1,3\n",
    "cuadrados =1000000\n",
    "\n",
    "delta= (ls-li)/cuadrados\n",
    "print(delta)\n",
    "suma=0\n",
    "for i in range (1,cuadrados):\n",
    "    x=li+i*(delta)\n",
    "    altura=x**3+x**2-1\n",
    "    suma+=delta*altura\n",
    "print(suma)"
   ]
  },
  {
   "cell_type": "code",
   "execution_count": null,
   "id": "61269d6e",
   "metadata": {},
   "outputs": [],
   "source": [
    "# x^3+x^2-1\n",
    "funcion=\"x**3+x**2-1\"\n",
    "li, ls= 1,10\n",
    "cuadrados =1000000\n",
    "\n",
    "delta= (ls-li)/cuadrados\n",
    "#print(delta)\n",
    "suma=0\n",
    "for i in range (1,cuadrados):\n",
    "    x=li+i*(delta)\n",
    "    altura=eval(funcion)\n",
    "    suma+=delta*altura\n",
    "print(suma)"
   ]
  },
  {
   "cell_type": "code",
   "execution_count": null,
   "id": "ac388da0",
   "metadata": {
    "scrolled": true
   },
   "outputs": [],
   "source": [
    "# x^3+x^2-1\n",
    "funcion=input(\"introduzca la función con base a x\")\n",
    "li=float(input(\"introduzca el limite inferior:\"))\n",
    "ls=float(input(\"introduzca el limite superior:\"))\n",
    "cuadrados=int(input(\"introduzca el numero de cuadrados:\"))\n",
    "\n",
    "\n",
    "delta= (ls-li)/cuadrados\n",
    "#print(delta)\n",
    "suma=0\n",
    "for i in range (1,cuadrados):\n",
    "    x=li+i*(delta)\n",
    "    altura=eval(funcion)\n",
    "    suma+=delta*altura\n",
    "print(suma)"
   ]
  },
  {
   "cell_type": "code",
   "execution_count": null,
   "id": "305c4611",
   "metadata": {},
   "outputs": [],
   "source": [
    "### importamos todo el módulo \n",
    "import random \n",
    "\n",
    "print (random.random())"
   ]
  },
  {
   "cell_type": "code",
   "execution_count": null,
   "id": "cce88d9d",
   "metadata": {},
   "outputs": [],
   "source": [
    "###importamos solo lo que necesitamos \n",
    "from random import random\n",
    "print (random())"
   ]
  },
  {
   "cell_type": "code",
   "execution_count": null,
   "id": "575de2da",
   "metadata": {},
   "outputs": [],
   "source": [
    "%%timeit\n",
    "from random  import random \n",
    "\n",
    "lista=[]\n",
    "for i in range (500):\n",
    "    lista.append(random())\n",
    "    suma=0\n",
    "for i in range (len(lista)):\n",
    "    suma+=lista[i]"
   ]
  },
  {
   "cell_type": "code",
   "execution_count": 1,
   "id": "84bd1120",
   "metadata": {},
   "outputs": [
    {
     "ename": "SyntaxError",
     "evalue": "invalid syntax. Perhaps you forgot a comma? (<unknown>, line 3)",
     "output_type": "error",
     "traceback": [
      "Traceback \u001b[1;36m(most recent call last)\u001b[0m:\n",
      "\u001b[0m  File \u001b[0;32m~\\anaconda3\\Lib\\site-packages\\IPython\\core\\interactiveshell.py:3526\u001b[0m in \u001b[0;35mrun_code\u001b[0m\n    exec(code_obj, self.user_global_ns, self.user_ns)\u001b[0m\n",
      "\u001b[0m  Cell \u001b[0;32mIn[1], line 1\u001b[0m\n    get_ipython().run_cell_magic('timeit', '', 'from random  import random \\nnum=1_000_000\\nlista=[random() for_in range(num)]\\nsuma=sum(lista)\\n')\u001b[0m\n",
      "\u001b[0m  File \u001b[0;32m~\\anaconda3\\Lib\\site-packages\\IPython\\core\\interactiveshell.py:2493\u001b[0m in \u001b[0;35mrun_cell_magic\u001b[0m\n    result = fn(*args, **kwargs)\u001b[0m\n",
      "\u001b[0m  File \u001b[0;32m~\\anaconda3\\Lib\\site-packages\\IPython\\core\\magics\\execution.py:1131\u001b[0m in \u001b[0;35mtimeit\u001b[0m\n    ast_stmt = self.shell.compile.ast_parse(transform(cell))\u001b[0m\n",
      "\u001b[1;36m  File \u001b[1;32m~\\anaconda3\\Lib\\site-packages\\IPython\\core\\compilerop.py:86\u001b[1;36m in \u001b[1;35mast_parse\u001b[1;36m\n\u001b[1;33m    return compile(source, filename, symbol, self.flags | PyCF_ONLY_AST, 1)\u001b[1;36m\n",
      "\u001b[1;36m  File \u001b[1;32m<unknown>:3\u001b[1;36m\u001b[0m\n\u001b[1;33m    lista=[random() for_in range(num)]\u001b[0m\n\u001b[1;37m           ^\u001b[0m\n\u001b[1;31mSyntaxError\u001b[0m\u001b[1;31m:\u001b[0m invalid syntax. Perhaps you forgot a comma?\n"
     ]
    }
   ],
   "source": [
    "%%timeit\n",
    "from random  import random \n",
    "num=1_000_000\n",
    "lista=[random() for_in range(num)]\n",
    "suma=sum(lista)"
   ]
  },
  {
   "cell_type": "code",
   "execution_count": null,
   "id": "e95d8e0a",
   "metadata": {},
   "outputs": [],
   "source": []
  }
 ],
 "metadata": {
  "kernelspec": {
   "display_name": "Python 3 (ipykernel)",
   "language": "python",
   "name": "python3"
  },
  "language_info": {
   "codemirror_mode": {
    "name": "ipython",
    "version": 3
   },
   "file_extension": ".py",
   "mimetype": "text/x-python",
   "name": "python",
   "nbconvert_exporter": "python",
   "pygments_lexer": "ipython3",
   "version": "3.10.13"
  }
 },
 "nbformat": 4,
 "nbformat_minor": 5
}
