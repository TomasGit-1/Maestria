{
 "cells": [
  {
   "cell_type": "code",
   "execution_count": 3,
   "metadata": {},
   "outputs": [
    {
     "name": "stdout",
     "output_type": "stream",
     "text": [
      "3.1415918681913633\n",
      "3.141592643066262\n"
     ]
    }
   ],
   "source": [
    "import numpy as np\n",
    "# def wallis(iteraciones):\n",
    "#     \"\"\"\n",
    "#     Generame el Producto de wallis\n",
    "#     \"\"\"\n",
    "#     resultado = 1.0\n",
    "#     for n in range(1, iteraciones):\n",
    "#         resultado *= (2 * n / (2 * n - 1)) * (2 * n / (2 * n + 1))\n",
    "#     return 2 * resultado\n",
    "\n",
    "def wallis(iteraciones):\n",
    "    \"\"\"\n",
    "    Generame el Producto de wallis\n",
    "    \"\"\"\n",
    "    resultado = 2\n",
    "    for n in range(1, iteraciones):\n",
    "        n4 = 4*n**2\n",
    "        resultado *= n4 / (n4-1)\n",
    "    return resultado\n",
    "    \n",
    "\n",
    "pi_estimado  = wallis(1_000_000)\n",
    "print(pi_estimado)\n",
    "pi_estimado2 = wallis(100_000_000)\n",
    "print(pi_estimado2)\n",
    "\n",
    "\n"
   ]
  },
  {
   "cell_type": "code",
   "execution_count": 5,
   "metadata": {},
   "outputs": [
    {
     "name": "stdout",
     "output_type": "stream",
     "text": [
      "12\n",
      "3.1415925750452818\n"
     ]
    }
   ],
   "source": [
    "import threading\n",
    "import time\n",
    "from random import randint\n",
    "import multiprocessing\n",
    "import numpy as np\n",
    "\n",
    "valores = []\n",
    "\n",
    "def wallis(li , ls):\n",
    "    \"\"\"\n",
    "    Generame el Producto de wallis\n",
    "    \"\"\"\n",
    "    resultado = 1\n",
    "    for n in range(li, ls):\n",
    "        n4 = 4*n**2\n",
    "        resultado *= n4 / (n4-1)\n",
    "    # print(resultado)\n",
    "    valores.append(resultado)\n",
    "\n",
    "\n",
    "class ParalellThread(threading.Thread):\n",
    "    pass\n",
    "\n",
    "if __name__ == \"__main__\":\n",
    "    hilos = []\n",
    "    print(multiprocessing.cpu_count())\n",
    "    n = 10_000_000\n",
    "    n = 100_000_000\n",
    "\n",
    "    delta = int(n / multiprocessing.cpu_count())\n",
    "    val_pi = 2\n",
    "    for i in range(multiprocessing.cpu_count()):\n",
    "        hilos.append(ParalellThread(target=wallis, args=(i * delta + 1, (i + 1) *  delta)))\n",
    "        hilos[-1].start()\n",
    "        # val_pi *= wallis((i * delta + 1) , (i + 1) *  delta)\n",
    "        # print(f\"{i * delta + 1} -  {(i+ 1) * delta }\")\n",
    "\n",
    "    for hilo in hilos:\n",
    "        hilo.join()\n",
    "    \n",
    "    for val in valores:\n",
    "        val_pi *= val\n",
    "\n",
    "    print(val_pi)"
   ]
  },
  {
   "cell_type": "code",
   "execution_count": 8,
   "metadata": {},
   "outputs": [
    {
     "name": "stdout",
     "output_type": "stream",
     "text": [
      "12\n"
     ]
    },
    {
     "ename": "KeyboardInterrupt",
     "evalue": "",
     "output_type": "error",
     "traceback": [
      "\u001b[1;31m---------------------------------------------------------------------------\u001b[0m",
      "\u001b[1;31mKeyboardInterrupt\u001b[0m                         Traceback (most recent call last)",
      "Cell \u001b[1;32mIn[8], line 35\u001b[0m\n\u001b[0;32m     32\u001b[0m     hilos[\u001b[38;5;241m-\u001b[39m\u001b[38;5;241m1\u001b[39m]\u001b[38;5;241m.\u001b[39mstart()\n\u001b[0;32m     34\u001b[0m \u001b[38;5;28;01mfor\u001b[39;00m hilo \u001b[38;5;129;01min\u001b[39;00m hilos:\n\u001b[1;32m---> 35\u001b[0m     \u001b[43mhilo\u001b[49m\u001b[38;5;241;43m.\u001b[39;49m\u001b[43mjoin\u001b[49m\u001b[43m(\u001b[49m\u001b[43m)\u001b[49m\n\u001b[0;32m     37\u001b[0m \u001b[38;5;28;01mfor\u001b[39;00m val \u001b[38;5;129;01min\u001b[39;00m valores:\n\u001b[0;32m     38\u001b[0m     val_pi \u001b[38;5;241m*\u001b[39m\u001b[38;5;241m=\u001b[39m val\n",
      "File \u001b[1;32mc:\\Users\\Tomas\\miniconda3\\envs\\envIA\\lib\\threading.py:1096\u001b[0m, in \u001b[0;36mThread.join\u001b[1;34m(self, timeout)\u001b[0m\n\u001b[0;32m   1093\u001b[0m     \u001b[38;5;28;01mraise\u001b[39;00m \u001b[38;5;167;01mRuntimeError\u001b[39;00m(\u001b[38;5;124m\"\u001b[39m\u001b[38;5;124mcannot join current thread\u001b[39m\u001b[38;5;124m\"\u001b[39m)\n\u001b[0;32m   1095\u001b[0m \u001b[38;5;28;01mif\u001b[39;00m timeout \u001b[38;5;129;01mis\u001b[39;00m \u001b[38;5;28;01mNone\u001b[39;00m:\n\u001b[1;32m-> 1096\u001b[0m     \u001b[38;5;28;43mself\u001b[39;49m\u001b[38;5;241;43m.\u001b[39;49m\u001b[43m_wait_for_tstate_lock\u001b[49m\u001b[43m(\u001b[49m\u001b[43m)\u001b[49m\n\u001b[0;32m   1097\u001b[0m \u001b[38;5;28;01melse\u001b[39;00m:\n\u001b[0;32m   1098\u001b[0m     \u001b[38;5;66;03m# the behavior of a negative timeout isn't documented, but\u001b[39;00m\n\u001b[0;32m   1099\u001b[0m     \u001b[38;5;66;03m# historically .join(timeout=x) for x<0 has acted as if timeout=0\u001b[39;00m\n\u001b[0;32m   1100\u001b[0m     \u001b[38;5;28mself\u001b[39m\u001b[38;5;241m.\u001b[39m_wait_for_tstate_lock(timeout\u001b[38;5;241m=\u001b[39m\u001b[38;5;28mmax\u001b[39m(timeout, \u001b[38;5;241m0\u001b[39m))\n",
      "File \u001b[1;32mc:\\Users\\Tomas\\miniconda3\\envs\\envIA\\lib\\threading.py:1116\u001b[0m, in \u001b[0;36mThread._wait_for_tstate_lock\u001b[1;34m(self, block, timeout)\u001b[0m\n\u001b[0;32m   1113\u001b[0m     \u001b[38;5;28;01mreturn\u001b[39;00m\n\u001b[0;32m   1115\u001b[0m \u001b[38;5;28;01mtry\u001b[39;00m:\n\u001b[1;32m-> 1116\u001b[0m     \u001b[38;5;28;01mif\u001b[39;00m \u001b[43mlock\u001b[49m\u001b[38;5;241;43m.\u001b[39;49m\u001b[43macquire\u001b[49m\u001b[43m(\u001b[49m\u001b[43mblock\u001b[49m\u001b[43m,\u001b[49m\u001b[43m \u001b[49m\u001b[43mtimeout\u001b[49m\u001b[43m)\u001b[49m:\n\u001b[0;32m   1117\u001b[0m         lock\u001b[38;5;241m.\u001b[39mrelease()\n\u001b[0;32m   1118\u001b[0m         \u001b[38;5;28mself\u001b[39m\u001b[38;5;241m.\u001b[39m_stop()\n",
      "\u001b[1;31mKeyboardInterrupt\u001b[0m: "
     ]
    }
   ],
   "source": [
    "import threading\n",
    "import time\n",
    "from random import randint\n",
    "import multiprocessing\n",
    "import numpy as np\n",
    "\n",
    "valores = []\n",
    "\n",
    "def wallis(li , ls , step):\n",
    "    \"\"\"\n",
    "    Generame el Producto de wallis\n",
    "    \"\"\"\n",
    "    resultado = 1\n",
    "    for n in range(li, ls , step):\n",
    "        n4 = 4*n**2\n",
    "        resultado *= n4 / (n4-1)\n",
    "    # print(resultado)\n",
    "    valores.append(resultado)\n",
    "\n",
    "\n",
    "class ParalellThread(threading.Thread):\n",
    "    pass\n",
    "\n",
    "if __name__ == \"__main__\":\n",
    "    hilos = []\n",
    "    print(multiprocessing.cpu_count())\n",
    "    n = 100_000_000\n",
    "    delta = int(n / multiprocessing.cpu_count())\n",
    "    val_pi = 2\n",
    "    for i in range(multiprocessing.cpu_count()):\n",
    "        hilos.append(ParalellThread(target=wallis, args=(i + 1, n , multiprocessing.cpu_count())))\n",
    "        hilos[-1].start()\n",
    "\n",
    "    for hilo in hilos:\n",
    "        hilo.join()\n",
    "    \n",
    "    for val in valores:\n",
    "        val_pi *= val\n",
    "\n",
    "    print(val_pi)"
   ]
  },
  {
   "cell_type": "code",
   "execution_count": 7,
   "metadata": {},
   "outputs": [
    {
     "name": "stdout",
     "output_type": "stream",
     "text": [
      "12\n",
      "3.1415847995787507\n"
     ]
    }
   ],
   "source": [
    "import threading\n",
    "import time\n",
    "from random import randint\n",
    "import multiprocessing\n",
    "import numpy as np\n",
    "\n",
    "valores = []\n",
    "\n",
    "def wallis(li , ls , step):\n",
    "    \"\"\"\n",
    "    Generame el Producto de wallis\n",
    "    \"\"\"\n",
    "    resultado = 1\n",
    "    for n in range(li, ls , step):\n",
    "        n4 = 4*n**2\n",
    "        resultado *= n4 / (n4-1)\n",
    "    # print(resultado)\n",
    "    valores.append(resultado)\n",
    "\n",
    "\n",
    "class ParalellThread(threading.Thread):\n",
    "    pass\n",
    "\n",
    "if __name__ == \"__main__\":\n",
    "    procesos = []\n",
    "    print(multiprocessing.cpu_count())\n",
    "    n = 100_000\n",
    "    delta = int(n / multiprocessing.cpu_count())\n",
    "    val_pi = 2\n",
    "    for i in range(multiprocessing.cpu_count()):\n",
    "        hilos.append(ParalellThread(target=wallis, args=(i + 1, n , multiprocessing.cpu_count())))\n",
    "        hilos[-1].start()\n",
    "\n",
    "    for hilo in hilos:\n",
    "        hilo.join()\n",
    "    \n",
    "    for val in valores:\n",
    "        val_pi *= val\n",
    "\n",
    "    print(val_pi)"
   ]
  }
 ],
 "metadata": {
  "kernelspec": {
   "display_name": "envIA",
   "language": "python",
   "name": "python3"
  },
  "language_info": {
   "codemirror_mode": {
    "name": "ipython",
    "version": 3
   },
   "file_extension": ".py",
   "mimetype": "text/x-python",
   "name": "python",
   "nbconvert_exporter": "python",
   "pygments_lexer": "ipython3",
   "version": "3.10.13"
  }
 },
 "nbformat": 4,
 "nbformat_minor": 2
}
