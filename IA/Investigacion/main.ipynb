{
 "cells": [
  {
   "cell_type": "markdown",
   "metadata": {},
   "source": [
    "Python"
   ]
  },
  {
   "cell_type": "markdown",
   "metadata": {},
   "source": [
    "Tipos de Datos"
   ]
  },
  {
   "cell_type": "code",
   "execution_count": 13,
   "metadata": {},
   "outputs": [],
   "source": [
    "\"\"\"\n",
    "    Este es una comentario mas largo\n",
    "\"\"\"\n",
    "a = 12 #int\n",
    "b = 2.5 #float\n",
    "c = \"Texto\" #string\n",
    "d = 'Texto 2' #string\n",
    "f = False\n",
    "e = True"
   ]
  },
  {
   "cell_type": "code",
   "execution_count": 20,
   "metadata": {},
   "outputs": [
    {
     "name": "stdout",
     "output_type": "stream",
     "text": [
      "14.5\n",
      "TextoTextoTexto\n"
     ]
    }
   ],
   "source": [
    "suma = a + b\n",
    "print(suma)\n",
    "print(c * 3)"
   ]
  },
  {
   "cell_type": "markdown",
   "metadata": {},
   "source": [
    "Estructura de Datos"
   ]
  },
  {
   "cell_type": "code",
   "execution_count": 18,
   "metadata": {},
   "outputs": [
    {
     "data": {
      "text/plain": [
       "'Texto'"
      ]
     },
     "execution_count": 18,
     "metadata": {},
     "output_type": "execute_result"
    }
   ],
   "source": [
    "\"\"\"\n",
    "    Listas\n",
    "    Diccionarios\n",
    "    tuplas\n",
    "    etc...\n",
    "\"\"\"\n",
    "\n",
    "isLista = [1 , 2.3 , False , 4 , 5 , \"Texto\"] \n",
    "isLista #Mostramos lista\n",
    "len(isLista) #Mostramos Tamaño\n",
    "isLista[5]"
   ]
  },
  {
   "cell_type": "code",
   "execution_count": 10,
   "metadata": {},
   "outputs": [
    {
     "data": {
      "text/plain": [
       "'Jaime'"
      ]
     },
     "execution_count": 10,
     "metadata": {},
     "output_type": "execute_result"
    }
   ],
   "source": [
    "#Diccionar\n",
    "dict_one = {\n",
    "    \"nombre\": \"Juan\",\n",
    "    \"edad\": 25,\n",
    "    \"pais\": \"Colombia\"\n",
    "}\n",
    "\n",
    "dict_two = {\n",
    "    \"calificaciones\": [1 ,2 ,3 ],\n",
    "    \"NombreC\":[\"mat\", \"otro\"],\n",
    "    \"Almacen\":dict_one\n",
    "}\n",
    "\n",
    "dict_two[\"Almacen\"][\"nombre\"] = \"Jaime\"\n",
    "dict_two[\"Almacen\"][\"nombre\"]"
   ]
  },
  {
   "cell_type": "code",
   "execution_count": 11,
   "metadata": {},
   "outputs": [
    {
     "name": "stdout",
     "output_type": "stream",
     "text": [
      "True\n"
     ]
    }
   ],
   "source": [
    "#Estructura\n",
    "#IF\n",
    "if True:\n",
    "    print(\"jdjdjdsjdsjjsdjdsjsdjdscosdjsjdncodsnc\")\n",
    "else :\n",
    "    print(\"False\")\n",
    "\n",
    "\n",
    "edad = 10\n",
    "if edad > 5:\n",
    "    print(\"Mayor de edad\")\n",
    "else :\n",
    "    print(\"Menor de edad\")\n"
   ]
  },
  {
   "cell_type": "code",
   "execution_count": 23,
   "metadata": {},
   "outputs": [
    {
     "name": "stdout",
     "output_type": "stream",
     "text": [
      "60\n",
      "70\n",
      "80\n",
      "90\n",
      "1\n",
      "2.3\n",
      "False\n",
      "4\n",
      "5\n",
      "Texto\n"
     ]
    }
   ],
   "source": [
    "#For \n",
    "for i in range(60,100,10):\n",
    "    print(i)\n",
    "\n",
    "for i in range(len(isLista)):\n",
    "    print(isLista[i])\n"
   ]
  }
 ],
 "metadata": {
  "kernelspec": {
   "display_name": "envIA2",
   "language": "python",
   "name": "python3"
  },
  "language_info": {
   "codemirror_mode": {
    "name": "ipython",
    "version": 3
   },
   "file_extension": ".py",
   "mimetype": "text/x-python",
   "name": "python",
   "nbconvert_exporter": "python",
   "pygments_lexer": "ipython3",
   "version": "3.10.13"
  }
 },
 "nbformat": 4,
 "nbformat_minor": 2
}
