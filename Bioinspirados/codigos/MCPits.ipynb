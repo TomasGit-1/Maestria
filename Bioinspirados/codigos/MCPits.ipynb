{
 "cells": [
  {
   "cell_type": "code",
   "execution_count": 2,
   "metadata": {},
   "outputs": [],
   "source": [
    "import numpy as np"
   ]
  },
  {
   "cell_type": "markdown",
   "metadata": {},
   "source": [
    "<h1>Funcion de activacion</h1>\n",
    "\n"
   ]
  },
  {
   "cell_type": "code",
   "execution_count": 1,
   "metadata": {},
   "outputs": [],
   "source": [
    "def Active(inputs, weights, umbral):\n",
    "    return int((sum( w * i for w, i in zip(weights , inputs) )) >= umbral)"
   ]
  },
  {
   "cell_type": "markdown",
   "metadata": {},
   "source": [
    "<h2>Not</h2>"
   ]
  },
  {
   "cell_type": "code",
   "execution_count": 3,
   "metadata": {},
   "outputs": [
    {
     "name": "stdout",
     "output_type": "stream",
     "text": [
      "Input | target\n",
      "0\t1\n",
      "1\t0\n"
     ]
    }
   ],
   "source": [
    "inputs = [[0],[1]]\n",
    "pesos = [-1]\n",
    "umbral = 0\n",
    "print(\"Input | target\")\n",
    "for p in inputs:\n",
    "    print(f\"{p[0]}\\t{Active(p, pesos, umbral)}\")"
   ]
  },
  {
   "cell_type": "markdown",
   "metadata": {},
   "source": [
    "<h2>Compuerta OR <h2>"
   ]
  },
  {
   "cell_type": "code",
   "execution_count": 4,
   "metadata": {},
   "outputs": [
    {
     "name": "stdout",
     "output_type": "stream",
     "text": [
      "input 1|\tinput 2|\ttarget\n",
      "0\t\t0\t\t0\n",
      "0\t\t1\t\t1\n",
      "1\t\t0\t\t1\n",
      "1\t\t1\t\t1\n"
     ]
    }
   ],
   "source": [
    "inputs = [[0,0], [0,1],[1,0], [1,1]]\n",
    "pesos = [1,1]\n",
    "umbral = 1\n",
    "print(\"input 1|\\tinput 2|\\ttarget\")\n",
    "for p in inputs:\n",
    "    print(f\"{p[0]}\\t\\t{p[1]}\\t\\t{Active(p, pesos, umbral)}\")"
   ]
  },
  {
   "cell_type": "markdown",
   "metadata": {},
   "source": [
    "<h2>Compuerta NOR</h2>"
   ]
  },
  {
   "cell_type": "code",
   "execution_count": 5,
   "metadata": {},
   "outputs": [
    {
     "name": "stdout",
     "output_type": "stream",
     "text": [
      "input 1|\tinput 2|\ttarget\n",
      "0\t\t0\t\t1\n",
      "0\t\t1\t\t0\n",
      "1\t\t0\t\t0\n",
      "1\t\t1\t\t0\n"
     ]
    }
   ],
   "source": [
    "inputs = [[0,0], [0,1],[1,0], [1,1]]\n",
    "pesos = [-1,-1]\n",
    "umbral = 0\n",
    "print(\"input 1|\\tinput 2|\\ttarget\")\n",
    "for p in inputs:\n",
    "    print(f\"{p[0]}\\t\\t{p[1]}\\t\\t{Active(p, pesos, umbral)}\")"
   ]
  },
  {
   "cell_type": "markdown",
   "metadata": {},
   "source": [
    "<h2>Compuerta AND</h2>"
   ]
  },
  {
   "cell_type": "code",
   "execution_count": 6,
   "metadata": {},
   "outputs": [
    {
     "name": "stdout",
     "output_type": "stream",
     "text": [
      "input 1 | input 2 | target\n",
      "0\t0\t0\n",
      "0\t1\t0\n",
      "1\t0\t0\n",
      "1\t1\t1\n"
     ]
    }
   ],
   "source": [
    "inputs = [[0,0], [0,1],[1,0], [1,1]]\n",
    "pesos = [1,1]\n",
    "umbral = 2\n",
    "print(\"input 1 | input 2 | target\")\n",
    "for p in inputs:\n",
    "    print(f\"{p[0]}\\t{p[1]}\\t{Active(p, pesos, umbral)}\")"
   ]
  },
  {
   "cell_type": "markdown",
   "metadata": {},
   "source": [
    "<h2>Compuerta NAND</h2>"
   ]
  },
  {
   "cell_type": "code",
   "execution_count": 7,
   "metadata": {},
   "outputs": [
    {
     "name": "stdout",
     "output_type": "stream",
     "text": [
      "input 1 | input 2 | target\n",
      "0\t0\t1\n",
      "0\t1\t1\n",
      "1\t0\t1\n",
      "1\t1\t0\n"
     ]
    }
   ],
   "source": [
    "inputs = [[0,0], [0,1],[1,0], [1,1]]\n",
    "pesos = [-1,-1]\n",
    "umbral = -1\n",
    "print(\"input 1 | input 2 | target\")\n",
    "for p in inputs:\n",
    "    print(f\"{p[0]}\\t{p[1]}\\t{Active(p, pesos, umbral)}\")"
   ]
  },
  {
   "cell_type": "markdown",
   "metadata": {},
   "source": [
    "<h2>Compuerta XOR</h2>"
   ]
  },
  {
   "cell_type": "code",
   "execution_count": 8,
   "metadata": {},
   "outputs": [
    {
     "name": "stdout",
     "output_type": "stream",
     "text": [
      "input 1 | input 2 | target\n",
      "0\t0\t0\n",
      "0\t1\t1\n",
      "1\t0\t1\n",
      "1\t1\t0\n"
     ]
    }
   ],
   "source": [
    "inputs = [[0,0], [0,1],[1,0], [1,1]]\n",
    "print(\"input 1 | input 2 | target\")\n",
    "for p in inputs:\n",
    "    #Calculamos la Not Para \n",
    "    pesos = [-1,-1]\n",
    "    x1Not = Active([p[0]], [pesos[0]], 0)\n",
    "    x2Not = Active([p[1]], [pesos[1]], 0)\n",
    "    \n",
    "    pesos = [1,1]\n",
    "    x1AND = Active([x1Not , p[1]], pesos, 2)\n",
    "    x2AND = Active([p[0]  , x2Not], pesos,2)\n",
    "    \n",
    "    xOr = Active([x1AND , x2AND], pesos,1)\n",
    "\n",
    "    print(f\"{p[0]}\\t{p[1]}\\t{xOr}\")\n",
    "\n"
   ]
  }
 ],
 "metadata": {
  "kernelspec": {
   "display_name": "envComputoParalelo",
   "language": "python",
   "name": "python3"
  },
  "language_info": {
   "codemirror_mode": {
    "name": "ipython",
    "version": 3
   },
   "file_extension": ".py",
   "mimetype": "text/x-python",
   "name": "python",
   "nbconvert_exporter": "python",
   "pygments_lexer": "ipython3",
   "version": "3.10.13"
  }
 },
 "nbformat": 4,
 "nbformat_minor": 2
}
