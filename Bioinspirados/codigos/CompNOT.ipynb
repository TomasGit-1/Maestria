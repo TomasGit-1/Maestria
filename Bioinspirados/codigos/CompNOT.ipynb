{
 "cells": [
  {
   "cell_type": "code",
   "execution_count": 1,
   "metadata": {},
   "outputs": [],
   "source": [
    "import numpy as np"
   ]
  },
  {
   "cell_type": "code",
   "execution_count": 2,
   "metadata": {},
   "outputs": [
    {
     "name": "stdout",
     "output_type": "stream",
     "text": [
      "==================================================\n",
      "P1 | P2 | target\n",
      "[[0 0]\n",
      " [0 1]\n",
      " [1 0]\n",
      " [1 1]]\n",
      "==================================================\n"
     ]
    }
   ],
   "source": [
    "print(\"=\"*50)\n",
    "print(\"P1 | P2 | target\")\n",
    "Compuerta_OR = np.array([[0,0], [0,1],[1,0], [1,1]])\n",
    "print(Compuerta_OR)\n",
    "print(\"=\"*50)"
   ]
  },
  {
   "cell_type": "code",
   "execution_count": 4,
   "metadata": {},
   "outputs": [
    {
     "name": "stdout",
     "output_type": "stream",
     "text": [
      "==================================================\n",
      "W1 | W1 | umbral\n",
      "1\t1\t1\n",
      "==================================================\n"
     ]
    }
   ],
   "source": [
    "print(\"=\"*50)\n",
    "pesos = np.array([1,1])\n",
    "umbral = 1\n",
    "print(\"W1 | W1 | umbral\")\n",
    "print(f\"{pesos[0]}\\t{pesos[1]}\\t{umbral}\" )\n",
    "print(\"=\"*50)\n"
   ]
  },
  {
   "cell_type": "code",
   "execution_count": 6,
   "metadata": {},
   "outputs": [
    {
     "name": "stdout",
     "output_type": "stream",
     "text": [
      "P1 | P2 | target\n",
      "0\t0\t0\n",
      "0\t1\t1\n",
      "1\t0\t1\n",
      "1\t1\t1\n"
     ]
    }
   ],
   "source": [
    "def functionActive(p, w, umbral):\n",
    "    return 1 if (w[0]*p[0] + w[1]*p[1] ) >= umbral else 0\n",
    "\n",
    "print(\"P1 | P2 | target\")\n",
    "for p in Compuerta_OR:\n",
    "    print(f\"{p[0]}\\t{p[1]}\\t{functionActive(p, pesos, umbral)}\")\n",
    "\n",
    "    "
   ]
  },
  {
   "cell_type": "code",
   "execution_count": 7,
   "metadata": {},
   "outputs": [
    {
     "name": "stdout",
     "output_type": "stream",
     "text": [
      "==================================================\n",
      "W1 | W1 | umbral\n",
      "1\t1\t0.2\n",
      "==================================================\n"
     ]
    }
   ],
   "source": [
    "print(\"=\"*50)\n",
    "pesos = np.array([1,1])\n",
    "umbral = 0.2\n",
    "print(\"W1 | W1 | umbral\")\n",
    "print(f\"{pesos[0]}\\t{pesos[1]}\\t{umbral}\" )\n",
    "print(\"=\"*50)"
   ]
  },
  {
   "cell_type": "code",
   "execution_count": 62,
   "metadata": {},
   "outputs": [
    {
     "name": "stdout",
     "output_type": "stream",
     "text": [
      "P1 | P2 | target\n",
      "0\t0\t0\n",
      "0\t1\t0\n",
      "1\t0\t0\n",
      "1\t1\t0\n"
     ]
    }
   ],
   "source": [
    "print(\"P1 | P2 | target\")\n",
    "for p in Compuerta_OR:\n",
    "    print(f\"{p[0]}\\t{p[1]}\\t{functionActive(p, pesos, umbral)}\")"
   ]
  }
 ],
 "metadata": {
  "kernelspec": {
   "display_name": "envComputoParalelo",
   "language": "python",
   "name": "python3"
  },
  "language_info": {
   "codemirror_mode": {
    "name": "ipython",
    "version": 3
   },
   "file_extension": ".py",
   "mimetype": "text/x-python",
   "name": "python",
   "nbconvert_exporter": "python",
   "pygments_lexer": "ipython3",
   "version": "3.10.13"
  }
 },
 "nbformat": 4,
 "nbformat_minor": 2
}
