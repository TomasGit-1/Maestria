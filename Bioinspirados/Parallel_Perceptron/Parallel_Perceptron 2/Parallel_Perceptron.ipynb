{
 "cells": [
  {
   "cell_type": "code",
   "execution_count": null,
   "metadata": {},
   "outputs": [],
   "source": [
    "from sklearn.datasets import make_moons\n",
    "from sklearn.preprocessing import MinMaxScaler\n",
    "from sklearn.inspection import DecisionBoundaryDisplay\n",
    "import matplotlib.pyplot as plt\n",
    "import numpy as np"
   ]
  },
  {
   "cell_type": "code",
   "execution_count": null,
   "metadata": {},
   "outputs": [],
   "source": [
    "'''\n",
    "función para graficar la frontera de decision de un modelo\n",
    "Parámetros:\n",
    "-modelo a usar para efectuar predicciones\n",
    "-conjunto de vectores de características\n",
    "-conjunto de etiquetas\n",
    "'''\n",
    "def graficar_frontera_decision(modelo, X, y):\n",
    "    feature_1, feature_2 = np.meshgrid(\n",
    "        np.linspace(np.min(X[:,0]), np.max(X[:,0])),\n",
    "        np.linspace(np.min(X[:,1]), np.max(X[:,1])))\n",
    "\n",
    "    grid = np.vstack([feature_1.ravel(), feature_2.ravel()]).T\n",
    "\n",
    "    pred = modelo.predict(grid)\n",
    "    pred = np.reshape(pred, feature_1.shape)\n",
    "    display = DecisionBoundaryDisplay(\n",
    "        xx0=feature_1, xx1=feature_2, response=pred)\n",
    "    display.plot()\n",
    "    display.ax_.scatter(\n",
    "        X[:, 0], X[:, 1], c=y, edgecolor=\"black\"\n",
    "    )\n",
    "    plt.show()"
   ]
  },
  {
   "cell_type": "code",
   "execution_count": null,
   "metadata": {},
   "outputs": [],
   "source": [
    "#carga del conjunto sintetico de datos\n",
    "X,y = make_moons(n_samples=600, noise=0.20)\n",
    "\n",
    "#grafica del conjunto de datos\n",
    "plt.scatter(X[:,0], X[:,1], c = y)\n",
    "plt.show()"
   ]
  },
  {
   "cell_type": "code",
   "execution_count": null,
   "metadata": {},
   "outputs": [],
   "source": [
    "from sklearn.model_selection import train_test_split\n",
    "\n",
    "#división del conjunto de datos \n",
    "X_tr, X_te, y_tr, y_te = train_test_split(X, y, test_size=0.2, stratify=y)\n",
    "\n",
    "#escalamiento del conjunto de datos\n",
    "escalador = MinMaxScaler()\n",
    "X_tr = escalador.fit_transform(X_tr)\n",
    "X_te = escalador.transform(X_te)\n",
    "\n",
    "#union de conjuntos de datos escalados entrenamiento y prueba (para graficar)\n",
    "X_t = np.vstack((X_tr,X_te))\n",
    "y_t = np.vstack((y_tr.reshape(-1,1),y_te.reshape(-1,1)))\n",
    "\n",
    "#grafica del conjunto de datos escalados y dividos\n",
    "plt.scatter(X_tr[:,0], X_tr[:,1], c = y_tr)\n",
    "plt.scatter(X_te[y_te == 0,0], X_te[y_te == 0,1], marker='x', c = 'red')\n",
    "plt.scatter(X_te[y_te == 1,0], X_te[y_te == 1,1], marker='+', c = 'green')\n",
    "plt.show()"
   ]
  },
  {
   "cell_type": "markdown",
   "metadata": {},
   "source": [
    "**PERCEPTRON**"
   ]
  },
  {
   "cell_type": "code",
   "execution_count": null,
   "metadata": {},
   "outputs": [],
   "source": [
    "from sklearn.linear_model import Perceptron\n",
    "\n",
    "#Entrenamiento y prueba del algoritmo del perceptron de scikit learn\n",
    "per = Perceptron()\n",
    "per.fit(X_tr, y_tr)\n",
    "\n",
    "print(f'[Perceptron] Exactitud en Entrenamiento {per.score(X_tr, y_tr)}')\n",
    "print(f'[Perceptron] Exactitud en Prueba {per.score(X_te, y_te)}')"
   ]
  },
  {
   "cell_type": "markdown",
   "metadata": {},
   "source": [
    "**POCKET ALGORITHM**"
   ]
  },
  {
   "cell_type": "code",
   "execution_count": null,
   "metadata": {},
   "outputs": [],
   "source": [
    "from sklearn.metrics import accuracy_score\n",
    "\n",
    "class Percetron_Pocket_Algorithm:\n",
    "    \n",
    "    def __init__(self, epochs = 1000) -> None:\n",
    "        self.w = None\n",
    "        self.epochs = epochs\n",
    "    \n",
    "    #método para hacer inferencias\n",
    "    def predict (self, X):\n",
    "        rows = X.shape[0]\n",
    "        ext = np.ones((rows, 1))\n",
    "        eX = np.hstack((X, ext))\n",
    "        y_hat = np.zeros(rows)\n",
    "\n",
    "        for i, x in enumerate(eX):\n",
    "            y_hat[i] = 1 if np.dot(x, self.w) >= 0 else 0\n",
    "\n",
    "        return y_hat\n",
    "    \n",
    "    #método para calcular la exactitud\n",
    "    def score(self, X, y):\n",
    "        return accuracy_score(y, self.predict(X))\n",
    "\n",
    "    #método para entrenar el modelo\n",
    "    def fit(self, X, y):        \n",
    "        rows = X.shape[0]\n",
    "        dim = X.shape[1] + 1            \n",
    "        ext = np.ones((rows, 1))\n",
    "        eXtr = np.hstack((X, ext))\n",
    "        self.w = np.copy(np.random.uniform(low = 0, high = 1, size = dim))        \n",
    "        ws = np.copy(self.w)\n",
    "        h = accuracy_score(y, self.predict(X))\n",
    "        hs = h\n",
    "\n",
    "        for it in range(self.epochs):\n",
    "            ord = np.random.choice(a = range(rows), size = rows, replace = False)\n",
    "            chng = 0    \n",
    "            for o in ord: \n",
    "                chk_flag = False\n",
    "                dp = np.dot(eXtr[o], self.w)\n",
    "                if y[o] == 1 and dp <= 0:\n",
    "                    chng += 1\n",
    "                    self.w += eXtr[o]\n",
    "                    chk_flag = True\n",
    "                elif y[o] == 0 and dp >= 0:\n",
    "                    chng += 1\n",
    "                    self.w -= eXtr[o]\n",
    "                    chk_flag = True\n",
    "                if chk_flag:\n",
    "                    h = accuracy_score(y, self.predict(X))\n",
    "                    if h > hs:\n",
    "                        ws = np.copy(self.w)                        \n",
    "                        hs = h\n",
    "            if chng == 0:\n",
    "                break\n",
    "            \n",
    "            self.w = np.copy(ws)  "
   ]
  },
  {
   "cell_type": "code",
   "execution_count": null,
   "metadata": {},
   "outputs": [],
   "source": [
    "#Entrenamiento y prueba del algoritmo del bolsillo para el perceptron\n",
    "pal = Percetron_Pocket_Algorithm()\n",
    "pal.fit(X_tr, y_tr)\n",
    "\n",
    "print(f'[Pocket Alg] Exactitud en Entrenamiento {pal.score(X_tr, y_tr)}')\n",
    "print(f'[Pocket Alg] Exactitud en Prueba {pal.score(X_te, y_te)}')"
   ]
  },
  {
   "cell_type": "markdown",
   "metadata": {},
   "source": [
    "**PERCEPTRON PARALELO**"
   ]
  },
  {
   "cell_type": "code",
   "execution_count": null,
   "metadata": {},
   "outputs": [],
   "source": [
    "'''\n",
    "TODO\n",
    "Implementar clasificador descrito en (Auer2008) A Learning Rule for Very Simple Universal Approximators Consisting of a Single Layer of Perceptrons\n",
    "Se sugiere seguir la estructura de método fit para entrenar y predict para realizar inferencias para poder usar los métodos y funciones ya establecidos\n",
    "Los hiperparametros del modelo deben poder ser definidos en el constructor del modelo\n",
    "'''\n",
    "\n",
    "class Perceptron_Paralelo:\n",
    "    def __init__(self) -> None:\n",
    "        pass\n",
    "    \n",
    "    def fit(self, X, y):\n",
    "        pass\n",
    "    \n",
    "    #método para calcular la exactitud\n",
    "    def score(self, X, y):\n",
    "        return accuracy_score(y, self.predict(X))\n",
    "    \n",
    "    #método para hacer inferencias\n",
    "    def predict(self, X):\n",
    "        pass"
   ]
  },
  {
   "cell_type": "code",
   "execution_count": null,
   "metadata": {},
   "outputs": [],
   "source": [
    "#Entrenamiento y prueba perceptron paralelo\n",
    "ppa = Perceptron_Paralelo()\n",
    "ppa.fit(X_tr, y_tr)\n",
    "\n",
    "print(f'[Percpetron Paralelo] Exactitud en Entrenamiento {ppa.score(X_tr, y_tr)}')\n",
    "print(f'[Percpetron Paralelo] Exactitud en Prueba {ppa.score(X_te, y_te)}')\n"
   ]
  },
  {
   "cell_type": "code",
   "execution_count": null,
   "metadata": {},
   "outputs": [],
   "source": [
    "graficar_frontera_decision(per, X_t, y_t)\n",
    "graficar_frontera_decision(pal, X_t, y_t)\n",
    "#graficar_frontera_decision(ppa, X_t, y_t)"
   ]
  }
 ],
 "metadata": {
  "kernelspec": {
   "display_name": "Python 3",
   "language": "python",
   "name": "python3"
  },
  "language_info": {
   "codemirror_mode": {
    "name": "ipython",
    "version": 3
   },
   "file_extension": ".py",
   "mimetype": "text/x-python",
   "name": "python",
   "nbconvert_exporter": "python",
   "pygments_lexer": "ipython3",
   "version": "3.11.8"
  }
 },
 "nbformat": 4,
 "nbformat_minor": 2
}
